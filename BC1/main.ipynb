{
 "cells": [
  {
   "cell_type": "markdown",
   "metadata": {},
   "source": [
    "# Setup colab"
   ]
  },
  {
   "cell_type": "markdown",
   "metadata": {},
   "source": [
    "> **IMPORTANT**\n",
    "> Nel caso si utilizzi google Colab c'è da caricare i file di input."
   ]
  },
  {
   "cell_type": "code",
   "execution_count": null,
   "metadata": {},
   "outputs": [],
   "source": [
    "from google.colab import drive\n",
    "\n",
    "drive.mount('/content/drive')\n",
    "\n",
    "path = '/content/drive/MyDrive/PoliMI/Dataset1_BankClients.xlsx'"
   ]
  },
  {
   "cell_type": "markdown",
   "metadata": {},
   "source": [
    "# Setup locale"
   ]
  },
  {
   "cell_type": "code",
   "execution_count": 5,
   "metadata": {},
   "outputs": [],
   "source": [
    "# Path su linux\n",
    "path = './data/Dataset1_BankClients.xlsx'\n",
    "\n",
    "# Path su windows - comando da inserire \n",
    "#path = ' '"
   ]
  },
  {
   "cell_type": "markdown",
   "metadata": {},
   "source": [
    "# Data Loading"
   ]
  },
  {
   "cell_type": "code",
   "execution_count": 7,
   "metadata": {},
   "outputs": [
    {
     "name": "stdout",
     "output_type": "stream",
     "text": [
      "   ID  Age  Gender  Job  Area  CitySize  FamilySize    Income    Wealth  \\\n",
      "0   1   24       1    1     2         2           4  0.668046  0.702786   \n",
      "1   2   47       1    2     2         3           1  0.858453  0.915043   \n",
      "2   3   38       0    2     1         2           2  0.926818  0.898316   \n",
      "3   4   67       0    2     1         2           3  0.538797  0.423180   \n",
      "4   5   33       0    2     1         3           1  0.806659  0.731404   \n",
      "\n",
      "       Debt    FinEdu       ESG   Digital  BankFriend  LifeStyle    Luxury  \\\n",
      "0  0.262070  0.741853  0.483684  0.698625    0.618259   0.607877  0.897369   \n",
      "1  0.730430  0.859423  0.537167  0.959025    0.785936   0.862271  0.913729   \n",
      "2  0.441272  0.485953  0.649434  0.750265    0.699725   0.755404  0.765199   \n",
      "3  0.600401  0.493144  0.533829  0.590165    0.675353   0.334432  0.517209   \n",
      "4  0.831449  0.856286  0.784940  0.710026    0.758793   0.908878  0.611610   \n",
      "\n",
      "     Saving  Investments  \n",
      "0  0.283222            1  \n",
      "1  0.821590            3  \n",
      "2  0.503790            3  \n",
      "3  0.691240            2  \n",
      "4  0.615916            2  \n"
     ]
    }
   ],
   "source": [
    "import pandas as pd\n",
    "\n",
    "# Load data in a DataFrame\n",
    "data = pd.read_excel(path)\n",
    "\n",
    "# Let's inspect the first 5 record\n",
    "print(data.head())\n",
    "# Drop the column by its actual name (e.g., 'ID' or the actual name of the column)\n",
    "data = data.drop(columns=['ID'])  # Replace 'ID' with the actual column name to drop"
   ]
  },
  {
   "cell_type": "markdown",
   "metadata": {},
   "source": [
    "# Data Preparation  "
   ]
  },
  {
   "cell_type": "code",
   "execution_count": 10,
   "metadata": {},
   "outputs": [
    {
     "name": "stdout",
     "output_type": "stream",
     "text": [
      "Numerical Features Shape: (5000, 13)\n",
      "Categorical Features Shape: (5000, 9)\n",
      "Combined Features Shape: (5000, 22)\n"
     ]
    }
   ],
   "source": [
    "from sklearn.preprocessing import MinMaxScaler, OneHotEncoder\n",
    "import numpy as np\n",
    "\n",
    "# Specify categorical variables\n",
    "categorical_columns = ['Gender', 'Job', 'Area', 'CitySize']\n",
    "\n",
    "# Split variables\n",
    "numerical_features = data.drop(columns=categorical_columns)  # Exclude categorical variables\n",
    "categorical_features = data[categorical_columns]  # Select categorical variables\n",
    "\n",
    "# Convert categorical in typ 'category' (for OneHotEncoder)\n",
    "categorical_features = categorical_features.astype('category')\n",
    "\n",
    "# Normalize numerical variables\n",
    "scaler = MinMaxScaler()\n",
    "X_num = scaler.fit_transform(numerical_features)\n",
    "\n",
    "# One-hot encoding categorical variables\n",
    "encoder = OneHotEncoder(drop='first', handle_unknown='ignore')  # Dummy encoding - set 1 feature to all 0s - ignoring unknwown values\n",
    "X_cat = encoder.fit_transform(categorical_features).toarray()  # Convert into a dense matrix\n",
    "\n",
    "# Concatenation of numerical and categorical variables\n",
    "X = np.hstack((X_num, X_cat))\n",
    "\n",
    "# Summary of the dataset\n",
    "print(\"Numerical Features Shape:\", X_num.shape)\n",
    "print(\"Categorical Features Shape:\", X_cat.shape)\n",
    "print(\"Combined Features Shape:\", X.shape)\n"
   ]
  }
 ],
 "metadata": {
  "kernelspec": {
   "display_name": ".venv",
   "language": "python",
   "name": "python3"
  },
  "language_info": {
   "codemirror_mode": {
    "name": "ipython",
    "version": 3
   },
   "file_extension": ".py",
   "mimetype": "text/x-python",
   "name": "python",
   "nbconvert_exporter": "python",
   "pygments_lexer": "ipython3",
   "version": "3.13.2"
  }
 },
 "nbformat": 4,
 "nbformat_minor": 2
}
